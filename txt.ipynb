{
 "cells": [
  {
   "cell_type": "code",
   "execution_count": 12,
   "metadata": {},
   "outputs": [
    {
     "name": "stdout",
     "output_type": "stream",
     "text": [
      "\n",
      "The accuracy of the model is 0.997506234413965%\n",
      "\n"
     ]
    }
   ],
   "source": [
    "from tkinter import *\n",
    "from tkinter import filedialog\n",
    "import fpdf\n",
    "import cv2\n",
    "import numpy as np\n",
    "import pytesseract\n",
    "from PIL import Image\n",
    "from difflib import SequenceMatcher\n",
    "\n",
    "pytesseract.pytesseract.tesseract_cmd = r\"C:\\Program Files\\Tesseract-OCR\\tesseract.exe\"\n",
    "\n",
    "# Path of working folder on Disk\n",
    "def browseFiles():\n",
    "    py = r\"*.png *.jpg *jpeg\"\n",
    "    global result\n",
    "    filename = filedialog.askopenfilename(initialdir=\"/\", title=\"Select a File\", filetypes=((\"images\", py),\n",
    "                                                                                            (\"all files\", \"*.*\")))\n",
    "    if filename == \"\":\n",
    "        return\n",
    "\n",
    "    # Read image with opencv\n",
    "    img = cv2.imread(filename)\n",
    "\n",
    "    # Convert to gray\n",
    "    img = cv2.cvtColor(img, cv2.COLOR_BGR2GRAY)\n",
    "\n",
    "    \n",
    "    alpha = 1.5 \n",
    "    beta = 50    \n",
    "    img = cv2.convertScaleAbs(img, alpha=alpha, beta=beta)\n",
    "\n",
    "    # Apply Gaussian Blur to remove noise\n",
    "    img = cv2.GaussianBlur(img, (5, 5), 0)\n",
    "\n",
    "    # Apply adaptive thresholding for better text extraction\n",
    "    img = cv2.adaptiveThreshold(img, 255, cv2.ADAPTIVE_THRESH_GAUSSIAN_C, cv2.THRESH_BINARY, 11, 2)\n",
    "\n",
    "    # Optional: Resize the image (sometimes helpful for small text)\n",
    "    img = cv2.resize(img, None, fx=1.5, fy=1.5, interpolation=cv2.INTER_LINEAR)\n",
    "\n",
    "    # Apply dilation and erosion to remove noise\n",
    "    kernel = np.ones((1, 1), np.uint8)\n",
    "    img = cv2.dilate(img, kernel, iterations=1)\n",
    "    img = cv2.erode(img, kernel, iterations=1)\n",
    "\n",
    "    # Save processed image\n",
    "    cv2.imwrite(\"processed_image.png\", img)\n",
    "\n",
    "    # Recognize text with Tesseract for Python\n",
    "    result = pytesseract.image_to_string(img)\n",
    "\n",
    "    # Display result in the label\n",
    "    label_file_explorer.configure(text=result)\n",
    "\n",
    "\n",
    "def pdf():\n",
    "    global result\n",
    "    pdf = fpdf.FPDF(format='letter')\n",
    "    pdf.add_page()\n",
    "    pdf.set_font(\"Arial\", size=12)\n",
    "    pdf.write(5, result)\n",
    "    pdf.ln()\n",
    "    pdf.output(\"converted.pdf\")\n",
    "\n",
    "window = Tk()\n",
    "\n",
    "# Set window title\n",
    "window.title('File Explorer')\n",
    "\n",
    "# Set window size\n",
    "window.geometry(\"700x350\")\n",
    "reg_info = Label(window, text=\"Handwritten Text Recognition Using Pytesseract\", width='80', height='2', font=(\"ariel\", 12, \"bold\"), fg=\"black\", bg='lightgrey')\n",
    "reg_info.place(x=370, y=18, anchor='center')\n",
    "\n",
    "# Set window background color\n",
    "window.config(background=\"white\")\n",
    "\n",
    "# Create a File Explorer label\n",
    "label_file_explorer = Label(window,\n",
    "                            text=\"See the Output Here\", font=(\"ariel\", 10, \"bold\"),\n",
    "                            width=90, height=12,\n",
    "                            fg=\"blue\")\n",
    "\n",
    "label_file_explorer.place(x=0, y=35)\n",
    "\n",
    "button_explore = Button(window,\n",
    "                        text=\"Browse Files\", fg=\"white\", bg=\"black\", font=(\"ariel\", 10, \"bold\"), width=10,\n",
    "                        command=browseFiles)\n",
    "button_explore.place(x=250, y=270)\n",
    "\n",
    "text = Label(window, text=\"(Select an image)\", bg=\"white\", fg=\"black\", font=(\"ariel\", 8, \"bold\"))\n",
    "text.place(x=242, y=300)\n",
    "\n",
    "button1 = Button(window,\n",
    "                 text=\"Convert text to pdf\", fg=\"white\", bg=\"black\", font=(\"ariel\", 10, \"bold\"), width=15,\n",
    "                 command=pdf)\n",
    "button1.place(x=370, y=270)\n",
    "\n",
    "window.mainloop()\n",
    "\n",
    "if result is not None:\n",
    "    s = \"We start With good\\n\\nBecause all businesses should\\n\\nbe doing something good\"\n",
    "    s1 = result\n",
    "\n",
    "    def similar(a, b):\n",
    "        return \"\\nThe accuracy of the model is \" + str(SequenceMatcher(None, a, b).ratio() * 100) + \"%\\n\"\n",
    "\n",
    "    print(similar(s, s1))\n",
    "    result = None\n"
   ]
  },
  {
   "cell_type": "code",
   "execution_count": 14,
   "metadata": {},
   "outputs": [
    {
     "data": {
      "text/plain": [
       "'4 An Operawing System manages haydwase and Sottwate\\nBESowtleS and Deovides SetVICeS to applications .\\n\\nof\\n\\n2. Viskual Me Moxy uses Aish Space OAS an extension\\nRAM Vox Aung \\\\axger Paes se\\n\\noy AN Deadlock \\\\S OW Statue cone & P yocesseS COart. indeleritely\\nCos YESOUCES held by ArmNers -\\n\\nhig ve: Scheduler de cicles the Ovadey in which\\n\\nProcesses Bun.'"
      ]
     },
     "execution_count": 14,
     "metadata": {},
     "output_type": "execute_result"
    }
   ],
   "source": [
    "from PIL import Image\n",
    "import pytesseract\n",
    "\n",
    "# Load the image from the provided path\n",
    "image_path = 'answer_keys/IMG_20250103_1826442.jpg'\n",
    "\n",
    "# Perform OCR using Tesseract\n",
    "extracted_text = pytesseract.image_to_string(image_path).strip()\n",
    "extracted_text\n"
   ]
  },
  {
   "cell_type": "code",
   "execution_count": null,
   "metadata": {},
   "outputs": [],
   "source": []
  }
 ],
 "metadata": {
  "kernelspec": {
   "display_name": "qualityenv",
   "language": "python",
   "name": "python3"
  },
  "language_info": {
   "codemirror_mode": {
    "name": "ipython",
    "version": 3
   },
   "file_extension": ".py",
   "mimetype": "text/x-python",
   "name": "python",
   "nbconvert_exporter": "python",
   "pygments_lexer": "ipython3",
   "version": "3.8.19"
  }
 },
 "nbformat": 4,
 "nbformat_minor": 2
}
